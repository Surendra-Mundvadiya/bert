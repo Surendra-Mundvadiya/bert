{
  "nbformat": 4,
  "nbformat_minor": 0,
  "metadata": {
    "colab": {
      "provenance": [],
      "mount_file_id": "1VbJAirgf2YKukc3KGHxQhl7_g-hgl4rV",
      "authorship_tag": "ABX9TyPoi7rvHThRSBXt4Xp4JZmD",
      "include_colab_link": true
    },
    "kernelspec": {
      "name": "python3",
      "display_name": "Python 3"
    },
    "language_info": {
      "name": "python"
    }
  },
  "cells": [
    {
      "cell_type": "markdown",
      "metadata": {
        "id": "view-in-github",
        "colab_type": "text"
      },
      "source": [
        "<a href=\"https://colab.research.google.com/github/Surendra-Mundvadiya/bert/blob/main/Untitled9.ipynb\" target=\"_parent\"><img src=\"https://colab.research.google.com/assets/colab-badge.svg\" alt=\"Open In Colab\"/></a>"
      ]
    },
    {
      "cell_type": "code",
      "execution_count": 14,
      "metadata": {
        "id": "Gg_ilqgO6vCV"
      },
      "outputs": [],
      "source": [
        "import numpy as np\n",
        "import pandas as pd\n",
        "import matplotlib.pyplot as plt\n",
        "from sklearn.preprocessing import MinMaxScaler\n",
        "from tensorflow.keras.models import Sequential\n",
        "from tensorflow.keras.layers import LSTM, Dense\n",
        "\n"
      ]
    },
    {
      "cell_type": "code",
      "source": [
        "# Load your log data into a Pandas DataFrame\n",
        "# Replace 'your_log_file.csv' with the actual file path\n",
        "df = pd.read_csv('/content/FLY000.csv')\n",
        "\n",
        "# Extract relevant features\n",
        "features = [\n",
        "    'Battery(0):battery%',\n",
        "    'Battery(0):FullChargeCap',\n",
        "    'Battery(0):RemainingCap',\n",
        "    'GPS(0):Long',\n",
        "    'GPS(0):Lat',\n",
        "    'GPS(0):heightMSL',\n",
        "    'flightTime',\n",
        "]\n",
        "\n",
        "df = df[features]\n",
        "df = df.dropna()\n",
        "\n"
      ],
      "metadata": {
        "colab": {
          "base_uri": "https://localhost:8080/"
        },
        "id": "LgBpyJJsJeBB",
        "outputId": "db63ed98-d155-497f-a8f2-71ef44f942e2"
      },
      "execution_count": 15,
      "outputs": [
        {
          "output_type": "stream",
          "name": "stderr",
          "text": [
            "<ipython-input-15-9301cf178fbf>:3: DtypeWarning: Columns (9,49,50,126,141,145,146,147,156) have mixed types. Specify dtype option on import or set low_memory=False.\n",
            "  df = pd.read_csv('/content/FLY000.csv')\n"
          ]
        }
      ]
    },
    {
      "cell_type": "code",
      "source": [
        "# Normalize data using Min-Max scaling\n",
        "scaler = MinMaxScaler()\n",
        "df_scaled = pd.DataFrame(scaler.fit_transform(df), columns=df.columns)\n",
        "\n"
      ],
      "metadata": {
        "id": "zYoRiFSNJtVJ"
      },
      "execution_count": 16,
      "outputs": []
    },
    {
      "cell_type": "code",
      "source": [
        "# Prepare sequences for LSTM\n",
        "sequence_length = 10  # Number of time steps to consider for prediction\n",
        "\n",
        "X, y = [], []\n",
        "for i in range(len(df_scaled) - sequence_length):\n",
        "    X.append(df_scaled.iloc[i:i + sequence_length].values)\n",
        "    y.append(df_scaled.iloc[i + sequence_length].values)\n",
        "\n",
        "X = np.array(X)\n",
        "y = np.array(y)"
      ],
      "metadata": {
        "id": "68HXjKl1JsHB"
      },
      "execution_count": 17,
      "outputs": []
    },
    {
      "cell_type": "code",
      "source": [
        "# Split the data into training and testing sets (90% training, 10% testing)\n",
        "split_index = int(0.9 * len(X))\n",
        "X_train, X_test = X[:split_index], X[split_index:]\n",
        "y_train, y_test = y[:split_index], y[split_index:]"
      ],
      "metadata": {
        "id": "Rolm_TVDJp7x"
      },
      "execution_count": 18,
      "outputs": []
    },
    {
      "cell_type": "code",
      "source": [
        "# Build the LSTM model\n",
        "model = Sequential()\n",
        "model.add(LSTM(50, activation='relu', input_shape=(sequence_length, len(features))))\n",
        "model.add(Dense(len(features)))\n",
        "model.compile(optimizer='adam', loss='mse')\n",
        "\n"
      ],
      "metadata": {
        "id": "ZzaifANIJoy3"
      },
      "execution_count": 19,
      "outputs": []
    },
    {
      "cell_type": "code",
      "source": [
        "# Train the model on the first 90% of the data\n",
        "model.fit(X_train, y_train, epochs=50, batch_size=32, validation_split=0.2)\n",
        "\n"
      ],
      "metadata": {
        "colab": {
          "base_uri": "https://localhost:8080/"
        },
        "id": "xeJ69YdHJnfQ",
        "outputId": "36c827c1-35cb-4143-b301-19aa0bebc459"
      },
      "execution_count": 20,
      "outputs": [
        {
          "output_type": "stream",
          "name": "stdout",
          "text": [
            "Epoch 1/50\n",
            "363/363 [==============================] - 5s 8ms/step - loss: 0.0072 - val_loss: 3.4786e-08\n",
            "Epoch 2/50\n",
            "363/363 [==============================] - 2s 6ms/step - loss: 1.9771e-05 - val_loss: 2.8974e-08\n",
            "Epoch 3/50\n",
            "363/363 [==============================] - 2s 6ms/step - loss: 1.9598e-05 - val_loss: 2.2948e-07\n",
            "Epoch 4/50\n",
            "363/363 [==============================] - 2s 6ms/step - loss: 1.9784e-05 - val_loss: 6.1881e-07\n",
            "Epoch 5/50\n",
            "363/363 [==============================] - 2s 7ms/step - loss: 1.8832e-05 - val_loss: 6.5261e-08\n",
            "Epoch 6/50\n",
            "363/363 [==============================] - 3s 9ms/step - loss: 1.7632e-05 - val_loss: 6.0801e-08\n",
            "Epoch 7/50\n",
            "363/363 [==============================] - 2s 6ms/step - loss: 1.6281e-05 - val_loss: 1.6304e-06\n",
            "Epoch 8/50\n",
            "363/363 [==============================] - 3s 7ms/step - loss: 1.5315e-05 - val_loss: 9.4241e-08\n",
            "Epoch 9/50\n",
            "363/363 [==============================] - 2s 7ms/step - loss: 1.4332e-05 - val_loss: 1.4475e-05\n",
            "Epoch 10/50\n",
            "363/363 [==============================] - 2s 6ms/step - loss: 1.4205e-05 - val_loss: 3.4370e-06\n",
            "Epoch 11/50\n",
            "363/363 [==============================] - 3s 9ms/step - loss: 1.5452e-05 - val_loss: 5.9666e-10\n",
            "Epoch 12/50\n",
            "363/363 [==============================] - 2s 7ms/step - loss: 1.5091e-05 - val_loss: 2.0108e-06\n",
            "Epoch 13/50\n",
            "363/363 [==============================] - 2s 6ms/step - loss: 1.4310e-05 - val_loss: 2.8157e-06\n",
            "Epoch 14/50\n",
            "363/363 [==============================] - 2s 6ms/step - loss: 1.4881e-05 - val_loss: 1.5913e-08\n",
            "Epoch 15/50\n",
            "363/363 [==============================] - 2s 6ms/step - loss: 1.2106e-05 - val_loss: 6.2788e-11\n",
            "Epoch 16/50\n",
            "363/363 [==============================] - 2s 7ms/step - loss: 1.4010e-05 - val_loss: 3.9908e-07\n",
            "Epoch 17/50\n",
            "363/363 [==============================] - 3s 9ms/step - loss: 1.3948e-05 - val_loss: 2.7356e-09\n",
            "Epoch 18/50\n",
            "363/363 [==============================] - 2s 6ms/step - loss: 1.2833e-05 - val_loss: 7.1063e-09\n",
            "Epoch 19/50\n",
            "363/363 [==============================] - 2s 6ms/step - loss: 1.2860e-05 - val_loss: 5.1084e-08\n",
            "Epoch 20/50\n",
            "363/363 [==============================] - 2s 6ms/step - loss: 1.2759e-05 - val_loss: 1.4188e-06\n",
            "Epoch 21/50\n",
            "363/363 [==============================] - 2s 6ms/step - loss: 1.1929e-05 - val_loss: 1.1390e-06\n",
            "Epoch 22/50\n",
            "363/363 [==============================] - 3s 9ms/step - loss: 1.3421e-05 - val_loss: 1.1427e-07\n",
            "Epoch 23/50\n",
            "363/363 [==============================] - 3s 8ms/step - loss: 1.1727e-05 - val_loss: 7.9742e-10\n",
            "Epoch 24/50\n",
            "363/363 [==============================] - 2s 6ms/step - loss: 1.1966e-05 - val_loss: 6.9121e-08\n",
            "Epoch 25/50\n",
            "363/363 [==============================] - 2s 6ms/step - loss: 1.1528e-05 - val_loss: 4.3939e-06\n",
            "Epoch 26/50\n",
            "363/363 [==============================] - 2s 6ms/step - loss: 1.2175e-05 - val_loss: 9.0938e-11\n",
            "Epoch 27/50\n",
            "363/363 [==============================] - 2s 6ms/step - loss: 1.1593e-05 - val_loss: 2.4990e-08\n",
            "Epoch 28/50\n",
            "363/363 [==============================] - 4s 10ms/step - loss: 1.1020e-05 - val_loss: 1.2143e-07\n",
            "Epoch 29/50\n",
            "363/363 [==============================] - 2s 6ms/step - loss: 1.1215e-05 - val_loss: 1.7902e-08\n",
            "Epoch 30/50\n",
            "363/363 [==============================] - 2s 7ms/step - loss: 1.0661e-05 - val_loss: 6.5384e-12\n",
            "Epoch 31/50\n",
            "363/363 [==============================] - 2s 6ms/step - loss: 9.8421e-06 - val_loss: 4.2357e-05\n",
            "Epoch 32/50\n",
            "363/363 [==============================] - 2s 6ms/step - loss: 1.4335e-05 - val_loss: 2.6077e-09\n",
            "Epoch 33/50\n",
            "363/363 [==============================] - 3s 8ms/step - loss: 9.4621e-06 - val_loss: 9.3342e-06\n",
            "Epoch 34/50\n",
            "363/363 [==============================] - 3s 8ms/step - loss: 1.0865e-05 - val_loss: 1.7314e-09\n",
            "Epoch 35/50\n",
            "363/363 [==============================] - 2s 6ms/step - loss: 9.7264e-06 - val_loss: 1.9774e-09\n",
            "Epoch 36/50\n",
            "363/363 [==============================] - 2s 6ms/step - loss: 9.7668e-06 - val_loss: 2.8376e-08\n",
            "Epoch 37/50\n",
            "363/363 [==============================] - 2s 6ms/step - loss: 9.9129e-06 - val_loss: 1.0232e-10\n",
            "Epoch 38/50\n",
            "363/363 [==============================] - 2s 6ms/step - loss: 1.0491e-05 - val_loss: 2.5405e-08\n",
            "Epoch 39/50\n",
            "363/363 [==============================] - 3s 9ms/step - loss: 9.1519e-06 - val_loss: 5.9341e-11\n",
            "Epoch 40/50\n",
            "363/363 [==============================] - 2s 7ms/step - loss: 9.4791e-06 - val_loss: 2.4396e-11\n",
            "Epoch 41/50\n",
            "363/363 [==============================] - 2s 6ms/step - loss: 9.3871e-06 - val_loss: 3.6513e-10\n",
            "Epoch 42/50\n",
            "363/363 [==============================] - 2s 6ms/step - loss: 8.8748e-06 - val_loss: 1.0346e-09\n",
            "Epoch 43/50\n",
            "363/363 [==============================] - 2s 6ms/step - loss: 1.0053e-05 - val_loss: 4.2608e-09\n",
            "Epoch 44/50\n",
            "363/363 [==============================] - 3s 7ms/step - loss: 9.4463e-06 - val_loss: 2.1156e-11\n",
            "Epoch 45/50\n",
            "363/363 [==============================] - 3s 9ms/step - loss: 8.8249e-06 - val_loss: 4.2930e-07\n",
            "Epoch 46/50\n",
            "363/363 [==============================] - 2s 6ms/step - loss: 9.0331e-06 - val_loss: 5.6631e-10\n",
            "Epoch 47/50\n",
            "363/363 [==============================] - 2s 6ms/step - loss: 8.9911e-06 - val_loss: 3.3856e-10\n",
            "Epoch 48/50\n",
            "363/363 [==============================] - 2s 6ms/step - loss: 8.7803e-06 - val_loss: 2.4781e-11\n",
            "Epoch 49/50\n",
            "363/363 [==============================] - 2s 6ms/step - loss: 9.1004e-06 - val_loss: 1.5133e-10\n",
            "Epoch 50/50\n",
            "363/363 [==============================] - 3s 8ms/step - loss: 9.1066e-06 - val_loss: 9.9869e-10\n"
          ]
        },
        {
          "output_type": "execute_result",
          "data": {
            "text/plain": [
              "<keras.src.callbacks.History at 0x7bd2ac2bf010>"
            ]
          },
          "metadata": {},
          "execution_count": 20
        }
      ]
    },
    {
      "cell_type": "code",
      "source": [
        "# Use the last 10% of the data to make predictions\n",
        "predictions = model.predict(X_test)\n"
      ],
      "metadata": {
        "colab": {
          "base_uri": "https://localhost:8080/"
        },
        "id": "M7PyzANdJmZy",
        "outputId": "cedb2cba-6fb5-4f20-b2c8-19d852fbfc72"
      },
      "execution_count": 21,
      "outputs": [
        {
          "output_type": "stream",
          "name": "stdout",
          "text": [
            "51/51 [==============================] - 1s 2ms/step\n"
          ]
        }
      ]
    },
    {
      "cell_type": "code",
      "source": [
        "\n",
        "# Inverse transform the predictions to original scale\n",
        "predictions_original = scaler.inverse_transform(predictions)\n",
        "y_test_original = scaler.inverse_transform(y_test)"
      ],
      "metadata": {
        "id": "7ZSoIV1eJkYH"
      },
      "execution_count": 22,
      "outputs": []
    },
    {
      "cell_type": "code",
      "source": [
        "# Plot actual vs predicted trajectories for each feature\n",
        "plt.figure(figsize=(15, 10))\n",
        "# for i in range(len(features)):\n",
        "#     plt.subplot(len(features), 1, i+1)\n",
        "#     plt.plot(predictions_original[:, i], label=f'Predicted {features[i]}')\n",
        "#     plt.plot(y_test_original[:, i], label=f'Actual {features[i]}')\n",
        "#     plt.legend()\n",
        "\n",
        "# plt.suptitle('Drone Trajectory Prediction (Last 10% of Data)')\n",
        "# plt.show()\n"
      ],
      "metadata": {
        "id": "7ODiQyKwJjAO"
      },
      "execution_count": null,
      "outputs": []
    },
    {
      "cell_type": "code",
      "source": [],
      "metadata": {
        "id": "ANNkIo4jPQvy"
      },
      "execution_count": null,
      "outputs": []
    },
    {
      "cell_type": "code",
      "source": [],
      "metadata": {
        "id": "T7IT0rP4PQpq"
      },
      "execution_count": null,
      "outputs": []
    }
  ]
}